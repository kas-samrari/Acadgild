{
 "cells": [
  {
   "cell_type": "markdown",
   "metadata": {},
   "source": [
    "## Problem 1\n",
    "Write a program which accepts a sequence of comma-separated numbers from console and\n",
    "generate a list."
   ]
  },
  {
   "cell_type": "code",
   "execution_count": 6,
   "metadata": {},
   "outputs": [
    {
     "name": "stdout",
     "output_type": "stream",
     "text": [
      "Enter some numbers seperated by commas:  1,2,3,4,5,6\n",
      "['1', '2', '3', '4', '5', '6']\n"
     ]
    }
   ],
   "source": [
    "my_list = input('Enter some numbers seperated by commas:  ')\n",
    "my_list = my_list.split(',')\n",
    "print(my_list)"
   ]
  },
  {
   "attachments": {
    "image.png": {
     "image/png": "[encoded data removed]"
    }
   },
   "cell_type": "markdown",
   "metadata": {},
   "source": [
    "## Problem 2 \n",
    "Create the below pattern using nested for loop in Python.\n",
    "\n",
    "![image.png](attachment:image.png)"
   ]
  },
  {
   "cell_type": "code",
   "execution_count": 7,
   "metadata": {},
   "outputs": [
    {
     "name": "stdout",
     "output_type": "stream",
     "text": [
      "\n",
      "*\n",
      "**\n",
      "***\n",
      "****\n",
      "*****\n",
      "****\n",
      "***\n",
      "**\n",
      "*\n"
     ]
    }
   ],
   "source": [
    "for i in range(0,6):\n",
    "    for j in range(0, i):\n",
    "        print('*', end = '')\n",
    "    print('')\n",
    "    \n",
    "for k in range(0,4):\n",
    "    for l in range (0, 4 - k):\n",
    "        print('*', end = '')\n",
    "    print('')"
   ]
  },
  {
   "cell_type": "markdown",
   "metadata": {},
   "source": [
    "## Problem 3\n",
    "Write a Python program to reverse a word after accepting the input from the user.\n",
    "Sample Output:\n",
    "Input word: AcadGild\n",
    "Output: dilGdacA"
   ]
  },
  {
   "cell_type": "code",
   "execution_count": 14,
   "metadata": {},
   "outputs": [
    {
     "name": "stdout",
     "output_type": "stream",
     "text": [
      "Please enter a word and I will print the word in reverse order: Acadgild\n",
      "The word in reverse is: dligdacA\n"
     ]
    }
   ],
   "source": [
    "word = input(str('Please enter a word and I will print the word in reverse order: '))\n",
    "rev_word = word[::-1]\n",
    "print('The word in reverse is: {}'.format(rev_word))"
   ]
  },
  {
   "attachments": {
    "image.png": {
     "image/png": "[encoded data removed]"
    }
   },
   "cell_type": "markdown",
   "metadata": {},
   "source": [
    "## Problem 4\n",
    "\n",
    "Write a Python Program to print the given string in the format specified in the sample\n",
    "output.\n",
    "\n",
    "WE, THE PEOPLE OF INDIA,having solemnly resolved to constitute India into a SOVEREIGN,\n",
    "SOCIALIST, SECULAR, DEMOCRATIC REPUBLIC and to secure to all its citizens\n",
    "\n",
    "Sample Output:\n",
    "![image.png](attachment:image.png)"
   ]
  },
  {
   "cell_type": "code",
   "execution_count": 15,
   "metadata": {},
   "outputs": [
    {
     "name": "stdout",
     "output_type": "stream",
     "text": [
      "['WE, THE PEOPLE OF INDIA,', 'having solemnly resolved to constitute India into a SOVEREIGN,', 'SOCIALIST, SECULAR, DEMOCRATIC REPUBLIC and to secure to all its citizens']\n"
     ]
    }
   ],
   "source": [
    "sample_string = [\"WE, THE PEOPLE OF INDIA,\",\"having solemnly resolved to constitute India into a SOVEREIGN,\",\n",
    "                 \"SOCIALIST, SECULAR, DEMOCRATIC REPUBLIC\", \"and to secure to all its citizens\"]\n",
    "print(sample_string)"
   ]
  },
  {
   "cell_type": "code",
   "execution_count": 16,
   "metadata": {},
   "outputs": [
    {
     "name": "stdout",
     "output_type": "stream",
     "text": [
      "WE, THE PEOPLE OF INDIA,\n"
     ]
    }
   ],
   "source": [
    "sample_string = [\"WE, THE PEOPLE OF INDIA,\",\n",
    "          \"having solemnly resolved to constitute India into a SOVEREIGN,\",\n",
    "          \"SOCIALIST, SECULAR, DEMOCRATIC REPUBLIC\",\"and to secure to all its citizens\"]\n",
    "print(sample_string[0])"
   ]
  },
  {
   "cell_type": "code",
   "execution_count": 23,
   "metadata": {},
   "outputs": [
    {
     "name": "stdout",
     "output_type": "stream",
     "text": [
      "WE, THE PEOPLE OF INDIA,\n",
      "\thaving solemnly resolved to constitute India into a SOVEREIGN,!\n",
      "\t\tSOCIALIST, SECULAR, DEMOCRATIC REPUBLIC\n",
      "\t\t and to secure to all its citizens\n"
     ]
    }
   ],
   "source": [
    "sample_string = [\"WE, THE PEOPLE OF INDIA,\",\n",
    "          \"having solemnly resolved to constitute India into a SOVEREIGN,\",\n",
    "          \"SOCIALIST, SECULAR, DEMOCRATIC REPUBLIC\",\"and to secure to all its citizens\"]\n",
    "print(sample_string[0])\n",
    "print('\\t' + sample_string[1] + '!')\n",
    "print('\\t' +'\\t' + sample_string[2])\n",
    "print('\\t' + '\\t'+ ' ' + sample_string[3])"
   ]
  },
  {
   "cell_type": "code",
   "execution_count": null,
   "metadata": {},
   "outputs": [],
   "source": []
  }
 ],
 "metadata": {
  "kernelspec": {
   "display_name": "Python 3",
   "language": "python",
   "name": "python3"
  },
  "language_info": {
   "codemirror_mode": {
    "name": "ipython",
    "version": 3
   },
   "file_extension": ".py",
   "mimetype": "text/x-python",
   "name": "python",
   "nbconvert_exporter": "python",
   "pygments_lexer": "ipython3",
   "version": "3.6.5"
  }
 },
 "nbformat": 4,
 "nbformat_minor": 2
}
