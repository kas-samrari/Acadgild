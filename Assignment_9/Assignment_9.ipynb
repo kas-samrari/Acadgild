{
 "cells": [
  {
   "cell_type": "code",
   "execution_count": 44,
   "metadata": {},
   "outputs": [],
   "source": [
    "import numpy as np\n",
    "import pandas as pd"
   ]
  },
  {
   "cell_type": "markdown",
   "metadata": {},
   "source": [
    "## Problem Statement\n",
    "\n",
    "Read the dataset from the below link\n",
    "https://raw.githubusercontent.com/guipsamora/pandas_exercises/master/06_Stats/US_Baby_Names/US_Baby_Names_right.csv"
   ]
  },
  {
   "cell_type": "code",
   "execution_count": 237,
   "metadata": {},
   "outputs": [],
   "source": [
    "url = \"https://raw.githubusercontent.com/guipsamora/pandas_exercises/master/06_Stats/US_Baby_Names/US_Baby_Names_right.csv\"\n",
    "df = pd.read_csv(url)"
   ]
  },
  {
   "cell_type": "code",
   "execution_count": 238,
   "metadata": {},
   "outputs": [
    {
     "name": "stdout",
     "output_type": "stream",
     "text": [
      "    Unnamed: 0     Id       Name  Year Gender State  Count\n",
      "0        11349  11350       Emma  2004      F    AK     62\n",
      "1        11350  11351    Madison  2004      F    AK     48\n",
      "2        11351  11352     Hannah  2004      F    AK     46\n",
      "3        11352  11353      Grace  2004      F    AK     44\n",
      "4        11353  11354      Emily  2004      F    AK     41\n",
      "5        11354  11355    Abigail  2004      F    AK     37\n",
      "6        11355  11356     Olivia  2004      F    AK     33\n",
      "7        11356  11357   Isabella  2004      F    AK     30\n",
      "8        11357  11358     Alyssa  2004      F    AK     29\n",
      "9        11358  11359     Sophia  2004      F    AK     28\n",
      "10       11359  11360     Alexis  2004      F    AK     27\n",
      "11       11360  11361  Elizabeth  2004      F    AK     27\n",
      "12       11361  11362     Hailey  2004      F    AK     27\n",
      "13       11362  11363       Anna  2004      F    AK     26\n",
      "14       11363  11364    Natalie  2004      F    AK     25\n",
      "15       11364  11365      Sarah  2004      F    AK     25\n",
      "16       11365  11366     Sydney  2004      F    AK     25\n",
      "17       11366  11367        Ava  2004      F    AK     23\n",
      "18       11367  11368    Trinity  2004      F    AK     22\n",
      "19       11368  11369      Haley  2004      F    AK     21\n",
      "20       11369  11370     Kaylee  2004      F    AK     21\n",
      "21       11370  11371     Taylor  2004      F    AK     21\n",
      "22       11371  11372      Chloe  2004      F    AK     20\n",
      "23       11372  11373       Ella  2004      F    AK     20\n",
      "24       11373  11374  Mackenzie  2004      F    AK     20\n",
      "25       11374  11375     Sierra  2004      F    AK     19\n",
      "26       11375  11376      Kayla  2004      F    AK     18\n",
      "27       11376  11377   Samantha  2004      F    AK     18\n",
      "28       11377  11378        Zoe  2004      F    AK     18\n",
      "29       11378  11379    Jessica  2004      F    AK     17\n",
      "30       11379  11380       Leah  2004      F    AK     17\n",
      "31       11380  11381       Lily  2004      F    AK     17\n",
      "32       11381  11382     Rachel  2004      F    AK     17\n",
      "33       11382  11383      Riley  2004      F    AK     17\n",
      "34       11383  11384   Savannah  2004      F    AK     17\n",
      "35       11384  11385   Victoria  2004      F    AK     17\n",
      "36       11385  11386     Ashley  2004      F    AK     16\n",
      "37       11386  11387    Cadence  2004      F    AK     16\n",
      "38       11387  11388      Megan  2004      F    AK     16\n",
      "39       11388  11389     Aurora  2004      F    AK     15\n"
     ]
    }
   ],
   "source": [
    "print(df.head(40))"
   ]
  },
  {
   "cell_type": "markdown",
   "metadata": {},
   "source": [
    "## Problem 1\n",
    "\n",
    "Delete unnamed columns"
   ]
  },
  {
   "cell_type": "code",
   "execution_count": 239,
   "metadata": {},
   "outputs": [],
   "source": [
    "df.drop('Unnamed: 0', axis = 1, inplace = True)"
   ]
  },
  {
   "cell_type": "code",
   "execution_count": 240,
   "metadata": {},
   "outputs": [],
   "source": [
    "df.drop('Id', axis = 1, inplace = True)"
   ]
  },
  {
   "cell_type": "code",
   "execution_count": 241,
   "metadata": {},
   "outputs": [
    {
     "name": "stdout",
     "output_type": "stream",
     "text": [
      "         Name  Year Gender State  Count\n",
      "0        Emma  2004      F    AK     62\n",
      "1     Madison  2004      F    AK     48\n",
      "2      Hannah  2004      F    AK     46\n",
      "3       Grace  2004      F    AK     44\n",
      "4       Emily  2004      F    AK     41\n",
      "5     Abigail  2004      F    AK     37\n",
      "6      Olivia  2004      F    AK     33\n",
      "7    Isabella  2004      F    AK     30\n",
      "8      Alyssa  2004      F    AK     29\n",
      "9      Sophia  2004      F    AK     28\n",
      "10     Alexis  2004      F    AK     27\n",
      "11  Elizabeth  2004      F    AK     27\n",
      "12     Hailey  2004      F    AK     27\n",
      "13       Anna  2004      F    AK     26\n",
      "14    Natalie  2004      F    AK     25\n",
      "15      Sarah  2004      F    AK     25\n",
      "16     Sydney  2004      F    AK     25\n",
      "17        Ava  2004      F    AK     23\n",
      "18    Trinity  2004      F    AK     22\n",
      "19      Haley  2004      F    AK     21\n",
      "20     Kaylee  2004      F    AK     21\n",
      "21     Taylor  2004      F    AK     21\n",
      "22      Chloe  2004      F    AK     20\n",
      "23       Ella  2004      F    AK     20\n",
      "24  Mackenzie  2004      F    AK     20\n",
      "25     Sierra  2004      F    AK     19\n",
      "26      Kayla  2004      F    AK     18\n",
      "27   Samantha  2004      F    AK     18\n",
      "28        Zoe  2004      F    AK     18\n",
      "29    Jessica  2004      F    AK     17\n",
      "30       Leah  2004      F    AK     17\n",
      "31       Lily  2004      F    AK     17\n",
      "32     Rachel  2004      F    AK     17\n",
      "33      Riley  2004      F    AK     17\n",
      "34   Savannah  2004      F    AK     17\n",
      "35   Victoria  2004      F    AK     17\n",
      "36     Ashley  2004      F    AK     16\n",
      "37    Cadence  2004      F    AK     16\n",
      "38      Megan  2004      F    AK     16\n",
      "39     Aurora  2004      F    AK     15\n"
     ]
    }
   ],
   "source": [
    "print(df.head(40))"
   ]
  },
  {
   "cell_type": "markdown",
   "metadata": {},
   "source": [
    "## Problem 2\n",
    "\n",
    "Show the distribution of male and female"
   ]
  },
  {
   "cell_type": "code",
   "execution_count": 242,
   "metadata": {},
   "outputs": [
    {
     "name": "stdout",
     "output_type": "stream",
     "text": [
      "F    558846\n",
      "M    457549\n",
      "Name: Gender, dtype: int64\n"
     ]
    }
   ],
   "source": [
    "male_v_female = pd.value_counts(df['Gender'])\n",
    "print(male_v_female)"
   ]
  },
  {
   "cell_type": "markdown",
   "metadata": {},
   "source": [
    "## Problem 3\n",
    "\n",
    "Show the top 5 most preferred names"
   ]
  },
  {
   "cell_type": "code",
   "execution_count": 244,
   "metadata": {},
   "outputs": [
    {
     "name": "stdout",
     "output_type": "stream",
     "text": [
      "           Year  Count\n",
      "Name                  \n",
      "Aaban      4027     12\n",
      "Aadan      8039     23\n",
      "Aadarsh    2009      5\n",
      "Aaden    393963   3426\n",
      "Aadhav     2014      6\n",
      "Aadhya    80515    453\n",
      "Aadi      76340    307\n",
      "Aadin      2008      5\n",
      "Aadit      6029     18\n",
      "Aaditya   28116     97\n"
     ]
    }
   ],
   "source": [
    "sumnames = df.groupby('Name').sum()\n",
    "print(sumnames.head(10))"
   ]
  },
  {
   "cell_type": "code",
   "execution_count": 245,
   "metadata": {},
   "outputs": [],
   "source": [
    "# Year is not necessary so going to drop the column\n",
    "df.drop('Year', axis = 1, inplace = True)"
   ]
  },
  {
   "cell_type": "code",
   "execution_count": 247,
   "metadata": {},
   "outputs": [
    {
     "name": "stdout",
     "output_type": "stream",
     "text": [
      "         Count\n",
      "Name          \n",
      "Aaban       12\n",
      "Aadan       23\n",
      "Aadarsh      5\n",
      "Aaden     3426\n",
      "Aadhav       6\n",
      "Aadhya     453\n",
      "Aadi       307\n",
      "Aadin        5\n",
      "Aadit       18\n",
      "Aaditya     97\n"
     ]
    }
   ],
   "source": [
    "sumnames = df.groupby('Name').sum()\n",
    "print(sumnames.head(10))"
   ]
  },
  {
   "cell_type": "code",
   "execution_count": 217,
   "metadata": {},
   "outputs": [
    {
     "name": "stdout",
     "output_type": "stream",
     "text": [
      "           Count\n",
      "Name            \n",
      "Jacob     242874\n",
      "Emma      214852\n",
      "Michael   214405\n",
      "Ethan     209277\n",
      "Isabella  204798\n"
     ]
    }
   ],
   "source": [
    "topnames = sumnames.sort_values('Count', ascending = False) \n",
    "print(topnames.head(5))"
   ]
  },
  {
   "cell_type": "markdown",
   "metadata": {},
   "source": [
    "## Problem 4\n",
    "\n",
    "What is the median name occurence in the dataset"
   ]
  },
  {
   "cell_type": "code",
   "execution_count": 218,
   "metadata": {},
   "outputs": [
    {
     "name": "stdout",
     "output_type": "stream",
     "text": [
      "            Count\n",
      "Name             \n",
      "Aishani        49\n",
      "Alara          49\n",
      "Alysse         49\n",
      "Ameir          49\n",
      "Anely          49\n",
      "Antonina       49\n",
      "Aveline        49\n",
      "Aziah          49\n",
      "Baily          49\n",
      "Caleah         49\n",
      "Carlota        49\n",
      "Cristine       49\n",
      "Dahlila        49\n",
      "Darvin         49\n",
      "Deante         49\n",
      "Deserae        49\n",
      "Devean         49\n",
      "Elizah         49\n",
      "Emmaly         49\n",
      "Emmanuela      49\n",
      "Envy           49\n",
      "Esli           49\n",
      "Fay            49\n",
      "Gurshaan       49\n",
      "Hareem         49\n",
      "Iven           49\n",
      "Jaice          49\n",
      "Jaiyana        49\n",
      "Jamiracle      49\n",
      "Jelissa        49\n",
      "...           ...\n",
      "Kyndle         49\n",
      "Kynsley        49\n",
      "Leylanie       49\n",
      "Maisha         49\n",
      "Malillany      49\n",
      "Mariann        49\n",
      "Marquell       49\n",
      "Maurilio       49\n",
      "Mckynzie       49\n",
      "Mehdi          49\n",
      "Nabeel         49\n",
      "Nalleli        49\n",
      "Nassir         49\n",
      "Nazier         49\n",
      "Nishant        49\n",
      "Rebecka        49\n",
      "Reghan         49\n",
      "Ridwan         49\n",
      "Riot           49\n",
      "Rubin          49\n",
      "Ryatt          49\n",
      "Sameera        49\n",
      "Sanjuanita     49\n",
      "Shalyn         49\n",
      "Skylie         49\n",
      "Sriram         49\n",
      "Trinton        49\n",
      "Vita           49\n",
      "Yoni           49\n",
      "Zuleima        49\n",
      "\n",
      "[66 rows x 1 columns]\n"
     ]
    }
   ],
   "source": [
    "mediannames = sumnames[sumnames.Count == sumnames.Count.median()]\n",
    "print(mediannames)"
   ]
  },
  {
   "cell_type": "markdown",
   "metadata": {},
   "source": [
    "## Problem 5\n",
    "\n",
    "Distribution of male and female born count by states"
   ]
  },
  {
   "cell_type": "code",
   "execution_count": 235,
   "metadata": {},
   "outputs": [
    {
     "name": "stdout",
     "output_type": "stream",
     "text": [
      "Gender      F      M\n",
      "State               \n",
      "AK       2404   2587\n",
      "AL       9878   8419\n",
      "AR       7171   6475\n",
      "AZ      14518  10820\n",
      "CA      45144  31637\n",
      "CO      11424   9183\n",
      "CT       6575   5733\n",
      "DC       3053   3000\n",
      "DE       2549   2440\n",
      "FL      25781  20070\n",
      "GA      19385  15454\n",
      "HI       3255   3546\n",
      "IA       7131   6307\n",
      "ID       4918   4833\n",
      "IL      21268  16828\n",
      "IN      13056  10613\n",
      "KS       7753   6748\n",
      "KY       8817   7267\n",
      "LA      10510   9676\n",
      "MA      10580   8609\n",
      "MD      11276   9483\n",
      "ME       2976   2777\n",
      "MI      16038  13243\n",
      "MN      10677   9004\n",
      "MO      11948   9917\n",
      "MS       7235   6862\n",
      "MT       2690   2986\n",
      "NC      17357  13530\n",
      "ND       2399   2581\n",
      "NE       5370   5029\n",
      "NH       2957   2659\n",
      "NJ      15041  12274\n",
      "NM       5721   4966\n",
      "NV       7092   6024\n",
      "NY      28158  22585\n",
      "OH      18143  14318\n",
      "OK       9519   8138\n",
      "OR       8604   7333\n",
      "PA      17480  14171\n",
      "RI       2558   2468\n",
      "SC       9465   8195\n",
      "SD       2838   2908\n",
      "TN      13063  10588\n",
      "TX      39760  27791\n",
      "UT       9515   8233\n",
      "VA      14759  11997\n",
      "VT       1398   1618\n",
      "WA      13329  11049\n",
      "WI      10549   8940\n",
      "WV       4305   3733\n",
      "WY       1456   1904\n"
     ]
    }
   ],
   "source": [
    "male_v_female_bystates = df.groupby(['State', 'Gender'])\n",
    "print((male_v_female_bystates.size().unstack()))"
   ]
  },
  {
   "cell_type": "code",
   "execution_count": 261,
   "metadata": {},
   "outputs": [
    {
     "name": "stdout",
     "output_type": "stream",
     "text": [
      "State  Gender\n",
      "AK     F          2404\n",
      "       M          2587\n",
      "AL     F          9878\n",
      "       M          8419\n",
      "AR     F          7171\n",
      "       M          6475\n",
      "AZ     F         14518\n",
      "       M         10820\n",
      "CA     F         45144\n",
      "       M         31637\n",
      "CO     F         11424\n",
      "       M          9183\n",
      "CT     F          6575\n",
      "       M          5733\n",
      "DC     F          3053\n",
      "       M          3000\n",
      "DE     F          2549\n",
      "       M          2440\n",
      "FL     F         25781\n",
      "       M         20070\n",
      "GA     F         19385\n",
      "       M         15454\n",
      "HI     F          3255\n",
      "       M          3546\n",
      "IA     F          7131\n",
      "       M          6307\n",
      "ID     F          4918\n",
      "       M          4833\n",
      "IL     F         21268\n",
      "       M         16828\n",
      "                 ...  \n",
      "OK     F          9519\n",
      "       M          8138\n",
      "OR     F          8604\n",
      "       M          7333\n",
      "PA     F         17480\n",
      "       M         14171\n",
      "RI     F          2558\n",
      "       M          2468\n",
      "SC     F          9465\n",
      "       M          8195\n",
      "SD     F          2838\n",
      "       M          2908\n",
      "TN     F         13063\n",
      "       M         10588\n",
      "TX     F         39760\n",
      "       M         27791\n",
      "UT     F          9515\n",
      "       M          8233\n",
      "VA     F         14759\n",
      "       M         11997\n",
      "VT     F          1398\n",
      "       M          1618\n",
      "WA     F         13329\n",
      "       M         11049\n",
      "WI     F         10549\n",
      "       M          8940\n",
      "WV     F          4305\n",
      "       M          3733\n",
      "WY     F          1456\n",
      "       M          1904\n",
      "Length: 102, dtype: int64\n"
     ]
    }
   ],
   "source": [
    "male_v_female_bystates = df.pivot_table(index = 'Gender', columns = 'State', values = 'Count', aggfunc = 'count')\n",
    "print((male_v_female_bystates.unstack()))"
   ]
  },
  {
   "cell_type": "code",
   "execution_count": null,
   "metadata": {},
   "outputs": [],
   "source": []
  }
 ],
 "metadata": {
  "kernelspec": {
   "display_name": "Python 3",
   "language": "python",
   "name": "python3"
  },
  "language_info": {
   "codemirror_mode": {
    "name": "ipython",
    "version": 3
   },
   "file_extension": ".py",
   "mimetype": "text/x-python",
   "name": "python",
   "nbconvert_exporter": "python",
   "pygments_lexer": "ipython3",
   "version": "3.6.4"
  }
 },
 "nbformat": 4,
 "nbformat_minor": 2
}
