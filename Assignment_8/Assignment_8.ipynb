{
 "cells": [
  {
   "cell_type": "code",
   "execution_count": 55,
   "metadata": {},
   "outputs": [],
   "source": [
    "import numpy as np\n",
    "import pandas as pd"
   ]
  },
  {
   "cell_type": "markdown",
   "metadata": {},
   "source": [
    "## Problem 1\n",
    "How-to-count-distance-to-the-previous-zero\n",
    "\n",
    "For each value, count the difference of the distance from the previous zero (or the start\n",
    "of the Series, whichever is closer) and if there are no previous zeros,print the position\n",
    "Consider a DataFrame df where there is an integer column {'X':[7, 2, 0, 3, 4, 2, 5, 0, 3, 4]}\n",
    "\n",
    "The values should therefore be [1, 2, 0, 1, 2, 3, 4, 0, 1, 2]. Make this a new column 'Y'."
   ]
  },
  {
   "cell_type": "code",
   "execution_count": 56,
   "metadata": {},
   "outputs": [],
   "source": [
    "data = {'X':[7,2,0,3,4,2,5,0,3,4]}\n",
    "df = pd.DataFrame(data)\n",
    "\n",
    "# Find the cummulative sum of the Series X where the values is not equal to zero\n",
    "x = (df['X'] != 0).cumsum()\n",
    "\n",
    "# Use the shift function to filter out the rows that contain the same x value as the row above it.\n",
    "x1 = x.shift()\n",
    "\n",
    "# Assign values to Y where the x values is not equal to x1\n",
    "y = x != x1\n",
    "\n",
    "#Use group by to group values where y is not equal to the values as the row above it and find the cummulative sums for the\n",
    "#filter function and the group by function\n",
    "\n",
    "df['Y'] = y.groupby((y != y.shift()).cumsum()).cumsum()\n"
   ]
  },
  {
   "cell_type": "code",
   "execution_count": 57,
   "metadata": {},
   "outputs": [
    {
     "name": "stdout",
     "output_type": "stream",
     "text": [
      "   X    Y\n",
      "0  7  1.0\n",
      "1  2  2.0\n",
      "2  0  0.0\n",
      "3  3  1.0\n",
      "4  4  2.0\n",
      "5  2  3.0\n",
      "6  5  4.0\n",
      "7  0  0.0\n",
      "8  3  1.0\n",
      "9  4  2.0\n"
     ]
    }
   ],
   "source": [
    "print(df)"
   ]
  },
  {
   "cell_type": "markdown",
   "metadata": {},
   "source": [
    "## Problem 2\n",
    "\n",
    "Create a DatetimeIndex that contains each business day of 2015 and use it to index a\n",
    "Series of random numbers."
   ]
  },
  {
   "cell_type": "code",
   "execution_count": 58,
   "metadata": {},
   "outputs": [],
   "source": [
    "from numpy.random import rand"
   ]
  },
  {
   "cell_type": "code",
   "execution_count": 59,
   "metadata": {},
   "outputs": [
    {
     "name": "stdout",
     "output_type": "stream",
     "text": [
      "2015-01-01    0.849501\n",
      "2015-01-02    0.396867\n",
      "2015-01-05    0.974576\n",
      "2015-01-06    0.819653\n",
      "2015-01-07    0.657600\n",
      "2015-01-08    0.168787\n",
      "2015-01-09    0.350625\n",
      "2015-01-12    0.421493\n",
      "2015-01-13    0.969019\n",
      "2015-01-14    0.581845\n",
      "2015-01-15    0.560599\n",
      "2015-01-16    0.157680\n",
      "2015-01-19    0.267584\n",
      "2015-01-20    0.114564\n",
      "2015-01-21    0.219119\n",
      "2015-01-22    0.098823\n",
      "2015-01-23    0.770633\n",
      "2015-01-26    0.450078\n",
      "2015-01-27    0.404701\n",
      "2015-01-28    0.800854\n",
      "2015-01-29    0.466005\n",
      "2015-01-30    0.383923\n",
      "2015-02-02    0.120062\n",
      "2015-02-03    0.745361\n",
      "2015-02-04    0.421607\n",
      "2015-02-05    0.172481\n",
      "2015-02-06    0.917594\n",
      "2015-02-09    0.238366\n",
      "2015-02-10    0.948525\n",
      "2015-02-11    0.975586\n",
      "                ...   \n",
      "2015-11-20    0.283689\n",
      "2015-11-23    0.907509\n",
      "2015-11-24    0.259506\n",
      "2015-11-25    0.594924\n",
      "2015-11-26    0.775916\n",
      "2015-11-27    0.870474\n",
      "2015-11-30    0.474378\n",
      "2015-12-01    0.099070\n",
      "2015-12-02    0.107433\n",
      "2015-12-03    0.648612\n",
      "2015-12-04    0.937565\n",
      "2015-12-07    0.439001\n",
      "2015-12-08    0.141438\n",
      "2015-12-09    0.849738\n",
      "2015-12-10    0.075135\n",
      "2015-12-11    0.505639\n",
      "2015-12-14    0.163690\n",
      "2015-12-15    0.868548\n",
      "2015-12-16    0.914103\n",
      "2015-12-17    0.598699\n",
      "2015-12-18    0.124992\n",
      "2015-12-21    0.179985\n",
      "2015-12-22    0.923119\n",
      "2015-12-23    0.822479\n",
      "2015-12-24    0.580838\n",
      "2015-12-25    0.062542\n",
      "2015-12-28    0.647262\n",
      "2015-12-29    0.684907\n",
      "2015-12-30    0.354263\n",
      "2015-12-31    0.307858\n",
      "Freq: B, Length: 261, dtype: float64\n"
     ]
    }
   ],
   "source": [
    "df2 = pd.date_range(start = '2015-01-01', end = '2015-12-31', freq = 'B')\n",
    "series1 = pd.Series(rand(len(df2)), index = df2)\n",
    "\n",
    "print(series1)\n"
   ]
  },
  {
   "cell_type": "markdown",
   "metadata": {},
   "source": [
    "## Problem 3\n",
    "\n",
    "Find the sum of the values in s for every Wednesday"
   ]
  },
  {
   "cell_type": "code",
   "execution_count": 60,
   "metadata": {},
   "outputs": [
    {
     "name": "stdout",
     "output_type": "stream",
     "text": [
      "32.01066647065934\n"
     ]
    }
   ],
   "source": [
    "sum_of_values = series1[df2.weekday == 2].sum()\n",
    "print(sum_of_values)"
   ]
  },
  {
   "cell_type": "markdown",
   "metadata": {},
   "source": [
    "## Problem 4\n",
    "\n",
    "Average For each calendar month\n"
   ]
  },
  {
   "cell_type": "code",
   "execution_count": 61,
   "metadata": {},
   "outputs": [
    {
     "name": "stdout",
     "output_type": "stream",
     "text": [
      "2015-01-31    0.494751\n",
      "2015-02-28    0.516708\n",
      "2015-03-31    0.542128\n",
      "2015-04-30    0.568519\n",
      "2015-05-31    0.494262\n",
      "2015-06-30    0.525224\n",
      "2015-07-31    0.550759\n",
      "2015-08-31    0.577959\n",
      "2015-09-30    0.567165\n",
      "2015-10-31    0.683709\n",
      "2015-11-30    0.508365\n",
      "2015-12-31    0.479866\n",
      "Freq: M, dtype: float64\n"
     ]
    }
   ],
   "source": [
    "avgbymonth = series1.groupby(pd.Grouper(freq='M')).mean()\n",
    "print(avgbymonth)"
   ]
  },
  {
   "cell_type": "markdown",
   "metadata": {},
   "source": [
    "## Problem 5\n",
    "\n",
    "For each group of four consecutive calendar months in s, find the date on which the\n",
    "highest value occurred."
   ]
  },
  {
   "cell_type": "code",
   "execution_count": 62,
   "metadata": {},
   "outputs": [
    {
     "name": "stdout",
     "output_type": "stream",
     "text": [
      "2015-01-31   2015-01-05\n",
      "2015-05-31   2015-04-03\n",
      "2015-09-30   2015-06-10\n",
      "2016-01-31   2015-10-16\n",
      "dtype: datetime64[ns]\n"
     ]
    }
   ],
   "source": [
    "highestvalue = series1.groupby(pd.Grouper(freq = '4M')).idxmax()\n",
    "print(highestvalue)"
   ]
  },
  {
   "cell_type": "code",
   "execution_count": null,
   "metadata": {},
   "outputs": [],
   "source": []
  }
 ],
 "metadata": {
  "kernelspec": {
   "display_name": "Python 3",
   "language": "python",
   "name": "python3"
  },
  "language_info": {
   "codemirror_mode": {
    "name": "ipython",
    "version": 3
   },
   "file_extension": ".py",
   "mimetype": "text/x-python",
   "name": "python",
   "nbconvert_exporter": "python",
   "pygments_lexer": "ipython3",
   "version": "3.6.4"
  }
 },
 "nbformat": 4,
 "nbformat_minor": 2
}
