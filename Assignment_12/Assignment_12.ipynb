{
 "cells": [
  {
   "cell_type": "code",
   "execution_count": 56,
   "metadata": {},
   "outputs": [],
   "source": [
    "import numpy as np\n",
    "import pandas as pd\n",
    "from pandas import DataFrame, Series\n",
    "import sqlite3 as db"
   ]
  },
  {
   "cell_type": "markdown",
   "metadata": {},
   "source": [
    "## Problem Statement\n",
    "\n",
    "Read the following data set:\n",
    "https://archive.ics.uci.edu/ml/machine-learning-databases/adult/"
   ]
  },
  {
   "cell_type": "code",
   "execution_count": 57,
   "metadata": {},
   "outputs": [],
   "source": [
    "df = pd.read_csv('https://archive.ics.uci.edu/ml/machine-learning-databases/adult/adult.data')"
   ]
  },
  {
   "cell_type": "code",
   "execution_count": 58,
   "metadata": {},
   "outputs": [
    {
     "data": {
      "text/html": [
       "<div>\n",
       "<style scoped>\n",
       "    .dataframe tbody tr th:only-of-type {\n",
       "        vertical-align: middle;\n",
       "    }\n",
       "\n",
       "    .dataframe tbody tr th {\n",
       "        vertical-align: top;\n",
       "    }\n",
       "\n",
       "    .dataframe thead th {\n",
       "        text-align: right;\n",
       "    }\n",
       "</style>\n",
       "<table border=\"1\" class=\"dataframe\">\n",
       "  <thead>\n",
       "    <tr style=\"text-align: right;\">\n",
       "      <th></th>\n",
       "      <th>39</th>\n",
       "      <th>State-gov</th>\n",
       "      <th>77516</th>\n",
       "      <th>Bachelors</th>\n",
       "      <th>13</th>\n",
       "      <th>Never-married</th>\n",
       "      <th>Adm-clerical</th>\n",
       "      <th>Not-in-family</th>\n",
       "      <th>White</th>\n",
       "      <th>Male</th>\n",
       "      <th>2174</th>\n",
       "      <th>0</th>\n",
       "      <th>40</th>\n",
       "      <th>United-States</th>\n",
       "      <th>&lt;=50K</th>\n",
       "    </tr>\n",
       "  </thead>\n",
       "  <tbody>\n",
       "    <tr>\n",
       "      <th>0</th>\n",
       "      <td>50</td>\n",
       "      <td>Self-emp-not-inc</td>\n",
       "      <td>83311</td>\n",
       "      <td>Bachelors</td>\n",
       "      <td>13</td>\n",
       "      <td>Married-civ-spouse</td>\n",
       "      <td>Exec-managerial</td>\n",
       "      <td>Husband</td>\n",
       "      <td>White</td>\n",
       "      <td>Male</td>\n",
       "      <td>0</td>\n",
       "      <td>0</td>\n",
       "      <td>13</td>\n",
       "      <td>United-States</td>\n",
       "      <td>&lt;=50K</td>\n",
       "    </tr>\n",
       "    <tr>\n",
       "      <th>1</th>\n",
       "      <td>38</td>\n",
       "      <td>Private</td>\n",
       "      <td>215646</td>\n",
       "      <td>HS-grad</td>\n",
       "      <td>9</td>\n",
       "      <td>Divorced</td>\n",
       "      <td>Handlers-cleaners</td>\n",
       "      <td>Not-in-family</td>\n",
       "      <td>White</td>\n",
       "      <td>Male</td>\n",
       "      <td>0</td>\n",
       "      <td>0</td>\n",
       "      <td>40</td>\n",
       "      <td>United-States</td>\n",
       "      <td>&lt;=50K</td>\n",
       "    </tr>\n",
       "    <tr>\n",
       "      <th>2</th>\n",
       "      <td>53</td>\n",
       "      <td>Private</td>\n",
       "      <td>234721</td>\n",
       "      <td>11th</td>\n",
       "      <td>7</td>\n",
       "      <td>Married-civ-spouse</td>\n",
       "      <td>Handlers-cleaners</td>\n",
       "      <td>Husband</td>\n",
       "      <td>Black</td>\n",
       "      <td>Male</td>\n",
       "      <td>0</td>\n",
       "      <td>0</td>\n",
       "      <td>40</td>\n",
       "      <td>United-States</td>\n",
       "      <td>&lt;=50K</td>\n",
       "    </tr>\n",
       "    <tr>\n",
       "      <th>3</th>\n",
       "      <td>28</td>\n",
       "      <td>Private</td>\n",
       "      <td>338409</td>\n",
       "      <td>Bachelors</td>\n",
       "      <td>13</td>\n",
       "      <td>Married-civ-spouse</td>\n",
       "      <td>Prof-specialty</td>\n",
       "      <td>Wife</td>\n",
       "      <td>Black</td>\n",
       "      <td>Female</td>\n",
       "      <td>0</td>\n",
       "      <td>0</td>\n",
       "      <td>40</td>\n",
       "      <td>Cuba</td>\n",
       "      <td>&lt;=50K</td>\n",
       "    </tr>\n",
       "    <tr>\n",
       "      <th>4</th>\n",
       "      <td>37</td>\n",
       "      <td>Private</td>\n",
       "      <td>284582</td>\n",
       "      <td>Masters</td>\n",
       "      <td>14</td>\n",
       "      <td>Married-civ-spouse</td>\n",
       "      <td>Exec-managerial</td>\n",
       "      <td>Wife</td>\n",
       "      <td>White</td>\n",
       "      <td>Female</td>\n",
       "      <td>0</td>\n",
       "      <td>0</td>\n",
       "      <td>40</td>\n",
       "      <td>United-States</td>\n",
       "      <td>&lt;=50K</td>\n",
       "    </tr>\n",
       "  </tbody>\n",
       "</table>\n",
       "</div>"
      ],
      "text/plain": [
       "   39          State-gov   77516   Bachelors   13        Never-married  \\\n",
       "0  50   Self-emp-not-inc   83311   Bachelors   13   Married-civ-spouse   \n",
       "1  38            Private  215646     HS-grad    9             Divorced   \n",
       "2  53            Private  234721        11th    7   Married-civ-spouse   \n",
       "3  28            Private  338409   Bachelors   13   Married-civ-spouse   \n",
       "4  37            Private  284582     Masters   14   Married-civ-spouse   \n",
       "\n",
       "         Adm-clerical   Not-in-family   White     Male   2174   0   40  \\\n",
       "0     Exec-managerial         Husband   White     Male      0   0   13   \n",
       "1   Handlers-cleaners   Not-in-family   White     Male      0   0   40   \n",
       "2   Handlers-cleaners         Husband   Black     Male      0   0   40   \n",
       "3      Prof-specialty            Wife   Black   Female      0   0   40   \n",
       "4     Exec-managerial            Wife   White   Female      0   0   40   \n",
       "\n",
       "    United-States   <=50K  \n",
       "0   United-States   <=50K  \n",
       "1   United-States   <=50K  \n",
       "2   United-States   <=50K  \n",
       "3            Cuba   <=50K  \n",
       "4   United-States   <=50K  "
      ]
     },
     "execution_count": 58,
     "metadata": {},
     "output_type": "execute_result"
    }
   ],
   "source": [
    "df.head()"
   ]
  },
  {
   "cell_type": "markdown",
   "metadata": {},
   "source": [
    "## Rename Columns\n",
    "\n",
    "Rename the columns as per the description from this file:\n",
    "https://archive.ics.uci.edu/ml/machine-learning-databases/adult/adult.names"
   ]
  },
  {
   "cell_type": "code",
   "execution_count": 59,
   "metadata": {},
   "outputs": [
    {
     "data": {
      "text/plain": [
       "Index(['39', ' State-gov', ' 77516', ' Bachelors', ' 13', ' Never-married',\n",
       "       ' Adm-clerical', ' Not-in-family', ' White', ' Male', ' 2174', ' 0',\n",
       "       ' 40', ' United-States', ' <=50K'],\n",
       "      dtype='object')"
      ]
     },
     "execution_count": 59,
     "metadata": {},
     "output_type": "execute_result"
    }
   ],
   "source": [
    "df.columns"
   ]
  },
  {
   "cell_type": "code",
   "execution_count": 60,
   "metadata": {},
   "outputs": [],
   "source": [
    "new_column_names = {'39':'age',' State-gov':'workclass',' 77516':'fnlwgt',\n",
    "                    ' Bachelors':'education',' 13':'educationnum',' Never-married':'maritalstatus',\n",
    "                    ' Adm-clerical':'occupation',' Not-in-family':'relationship',' White':'race',' Male':'sex',\n",
    "                    ' 2174':'capitalgain',' 0':'capitalloss',' 40':'hoursperweek',\n",
    "                    ' United-States':'nativecountry',' <=50K':'income' }"
   ]
  },
  {
   "cell_type": "code",
   "execution_count": 61,
   "metadata": {},
   "outputs": [],
   "source": [
    "df.rename(columns = new_column_names, inplace = True)"
   ]
  },
  {
   "cell_type": "code",
   "execution_count": 62,
   "metadata": {},
   "outputs": [
    {
     "data": {
      "text/html": [
       "<div>\n",
       "<style scoped>\n",
       "    .dataframe tbody tr th:only-of-type {\n",
       "        vertical-align: middle;\n",
       "    }\n",
       "\n",
       "    .dataframe tbody tr th {\n",
       "        vertical-align: top;\n",
       "    }\n",
       "\n",
       "    .dataframe thead th {\n",
       "        text-align: right;\n",
       "    }\n",
       "</style>\n",
       "<table border=\"1\" class=\"dataframe\">\n",
       "  <thead>\n",
       "    <tr style=\"text-align: right;\">\n",
       "      <th></th>\n",
       "      <th>age</th>\n",
       "      <th>workclass</th>\n",
       "      <th>fnlwgt</th>\n",
       "      <th>education</th>\n",
       "      <th>educationnum</th>\n",
       "      <th>maritalstatus</th>\n",
       "      <th>occupation</th>\n",
       "      <th>relationship</th>\n",
       "      <th>race</th>\n",
       "      <th>sex</th>\n",
       "      <th>capitalgain</th>\n",
       "      <th>capitalloss</th>\n",
       "      <th>hoursperweek</th>\n",
       "      <th>nativecountry</th>\n",
       "      <th>income</th>\n",
       "    </tr>\n",
       "  </thead>\n",
       "  <tbody>\n",
       "    <tr>\n",
       "      <th>0</th>\n",
       "      <td>50</td>\n",
       "      <td>Self-emp-not-inc</td>\n",
       "      <td>83311</td>\n",
       "      <td>Bachelors</td>\n",
       "      <td>13</td>\n",
       "      <td>Married-civ-spouse</td>\n",
       "      <td>Exec-managerial</td>\n",
       "      <td>Husband</td>\n",
       "      <td>White</td>\n",
       "      <td>Male</td>\n",
       "      <td>0</td>\n",
       "      <td>0</td>\n",
       "      <td>13</td>\n",
       "      <td>United-States</td>\n",
       "      <td>&lt;=50K</td>\n",
       "    </tr>\n",
       "    <tr>\n",
       "      <th>1</th>\n",
       "      <td>38</td>\n",
       "      <td>Private</td>\n",
       "      <td>215646</td>\n",
       "      <td>HS-grad</td>\n",
       "      <td>9</td>\n",
       "      <td>Divorced</td>\n",
       "      <td>Handlers-cleaners</td>\n",
       "      <td>Not-in-family</td>\n",
       "      <td>White</td>\n",
       "      <td>Male</td>\n",
       "      <td>0</td>\n",
       "      <td>0</td>\n",
       "      <td>40</td>\n",
       "      <td>United-States</td>\n",
       "      <td>&lt;=50K</td>\n",
       "    </tr>\n",
       "    <tr>\n",
       "      <th>2</th>\n",
       "      <td>53</td>\n",
       "      <td>Private</td>\n",
       "      <td>234721</td>\n",
       "      <td>11th</td>\n",
       "      <td>7</td>\n",
       "      <td>Married-civ-spouse</td>\n",
       "      <td>Handlers-cleaners</td>\n",
       "      <td>Husband</td>\n",
       "      <td>Black</td>\n",
       "      <td>Male</td>\n",
       "      <td>0</td>\n",
       "      <td>0</td>\n",
       "      <td>40</td>\n",
       "      <td>United-States</td>\n",
       "      <td>&lt;=50K</td>\n",
       "    </tr>\n",
       "    <tr>\n",
       "      <th>3</th>\n",
       "      <td>28</td>\n",
       "      <td>Private</td>\n",
       "      <td>338409</td>\n",
       "      <td>Bachelors</td>\n",
       "      <td>13</td>\n",
       "      <td>Married-civ-spouse</td>\n",
       "      <td>Prof-specialty</td>\n",
       "      <td>Wife</td>\n",
       "      <td>Black</td>\n",
       "      <td>Female</td>\n",
       "      <td>0</td>\n",
       "      <td>0</td>\n",
       "      <td>40</td>\n",
       "      <td>Cuba</td>\n",
       "      <td>&lt;=50K</td>\n",
       "    </tr>\n",
       "    <tr>\n",
       "      <th>4</th>\n",
       "      <td>37</td>\n",
       "      <td>Private</td>\n",
       "      <td>284582</td>\n",
       "      <td>Masters</td>\n",
       "      <td>14</td>\n",
       "      <td>Married-civ-spouse</td>\n",
       "      <td>Exec-managerial</td>\n",
       "      <td>Wife</td>\n",
       "      <td>White</td>\n",
       "      <td>Female</td>\n",
       "      <td>0</td>\n",
       "      <td>0</td>\n",
       "      <td>40</td>\n",
       "      <td>United-States</td>\n",
       "      <td>&lt;=50K</td>\n",
       "    </tr>\n",
       "  </tbody>\n",
       "</table>\n",
       "</div>"
      ],
      "text/plain": [
       "   age          workclass  fnlwgt   education  educationnum  \\\n",
       "0   50   Self-emp-not-inc   83311   Bachelors            13   \n",
       "1   38            Private  215646     HS-grad             9   \n",
       "2   53            Private  234721        11th             7   \n",
       "3   28            Private  338409   Bachelors            13   \n",
       "4   37            Private  284582     Masters            14   \n",
       "\n",
       "         maritalstatus          occupation    relationship    race      sex  \\\n",
       "0   Married-civ-spouse     Exec-managerial         Husband   White     Male   \n",
       "1             Divorced   Handlers-cleaners   Not-in-family   White     Male   \n",
       "2   Married-civ-spouse   Handlers-cleaners         Husband   Black     Male   \n",
       "3   Married-civ-spouse      Prof-specialty            Wife   Black   Female   \n",
       "4   Married-civ-spouse     Exec-managerial            Wife   White   Female   \n",
       "\n",
       "   capitalgain  capitalloss  hoursperweek   nativecountry  income  \n",
       "0            0            0            13   United-States   <=50K  \n",
       "1            0            0            40   United-States   <=50K  \n",
       "2            0            0            40   United-States   <=50K  \n",
       "3            0            0            40            Cuba   <=50K  \n",
       "4            0            0            40   United-States   <=50K  "
      ]
     },
     "execution_count": 62,
     "metadata": {},
     "output_type": "execute_result"
    }
   ],
   "source": [
    "df.head()"
   ]
  },
  {
   "cell_type": "code",
   "execution_count": 63,
   "metadata": {},
   "outputs": [
    {
     "data": {
      "text/plain": [
       "Index(['age', 'workclass', 'fnlwgt', 'education', 'educationnum',\n",
       "       'maritalstatus', 'occupation', 'relationship', 'race', 'sex',\n",
       "       'capitalgain', 'capitalloss', 'hoursperweek', 'nativecountry',\n",
       "       'income'],\n",
       "      dtype='object')"
      ]
     },
     "execution_count": 63,
     "metadata": {},
     "output_type": "execute_result"
    }
   ],
   "source": [
    "df.columns"
   ]
  },
  {
   "cell_type": "markdown",
   "metadata": {},
   "source": [
    "## Create dB\n",
    "\n",
    "Create a sql db from adult dataset and name it sqladb"
   ]
  },
  {
   "cell_type": "code",
   "execution_count": 64,
   "metadata": {},
   "outputs": [],
   "source": [
    "conn = db.connect('sqladb.db')\n",
    "cursor = conn.cursor()"
   ]
  },
  {
   "cell_type": "code",
   "execution_count": 23,
   "metadata": {},
   "outputs": [],
   "source": [
    "df.to_sql(name=\"adultdata\", con=conn, if_exists=\"append\", index=False)"
   ]
  },
  {
   "cell_type": "code",
   "execution_count": 65,
   "metadata": {},
   "outputs": [
    {
     "data": {
      "text/plain": [
       "<function Connection.commit>"
      ]
     },
     "execution_count": 65,
     "metadata": {},
     "output_type": "execute_result"
    }
   ],
   "source": [
    "conn.commit"
   ]
  },
  {
   "cell_type": "markdown",
   "metadata": {},
   "source": [
    "## Problem 1\n",
    "\n",
    "Select 10 records from the adult sqladb\n"
   ]
  },
  {
   "cell_type": "code",
   "execution_count": 67,
   "metadata": {},
   "outputs": [],
   "source": [
    "sql1 = (\"SELECT * FROM adultdata LIMIT 10\")\n",
    "result = pd.read_sql_query(sql1, conn)"
   ]
  },
  {
   "cell_type": "code",
   "execution_count": 68,
   "metadata": {},
   "outputs": [
    {
     "name": "stdout",
     "output_type": "stream",
     "text": [
      "   age          workclass  fnlwgt      education  educationnum  \\\n",
      "0   50   Self-emp-not-inc   83311      Bachelors            13   \n",
      "1   38            Private  215646        HS-grad             9   \n",
      "2   53            Private  234721           11th             7   \n",
      "3   28            Private  338409      Bachelors            13   \n",
      "4   37            Private  284582        Masters            14   \n",
      "5   49            Private  160187            9th             5   \n",
      "6   52   Self-emp-not-inc  209642        HS-grad             9   \n",
      "7   31            Private   45781        Masters            14   \n",
      "8   42            Private  159449      Bachelors            13   \n",
      "9   37            Private  280464   Some-college            10   \n",
      "\n",
      "            maritalstatus          occupation    relationship    race  \\\n",
      "0      Married-civ-spouse     Exec-managerial         Husband   White   \n",
      "1                Divorced   Handlers-cleaners   Not-in-family   White   \n",
      "2      Married-civ-spouse   Handlers-cleaners         Husband   Black   \n",
      "3      Married-civ-spouse      Prof-specialty            Wife   Black   \n",
      "4      Married-civ-spouse     Exec-managerial            Wife   White   \n",
      "5   Married-spouse-absent       Other-service   Not-in-family   Black   \n",
      "6      Married-civ-spouse     Exec-managerial         Husband   White   \n",
      "7           Never-married      Prof-specialty   Not-in-family   White   \n",
      "8      Married-civ-spouse     Exec-managerial         Husband   White   \n",
      "9      Married-civ-spouse     Exec-managerial         Husband   Black   \n",
      "\n",
      "       sex  capitalgain  capitalloss  hoursperweek   nativecountry  income  \n",
      "0     Male            0            0            13   United-States   <=50K  \n",
      "1     Male            0            0            40   United-States   <=50K  \n",
      "2     Male            0            0            40   United-States   <=50K  \n",
      "3   Female            0            0            40            Cuba   <=50K  \n",
      "4   Female            0            0            40   United-States   <=50K  \n",
      "5   Female            0            0            16         Jamaica   <=50K  \n",
      "6     Male            0            0            45   United-States    >50K  \n",
      "7   Female        14084            0            50   United-States    >50K  \n",
      "8     Male         5178            0            40   United-States    >50K  \n",
      "9     Male            0            0            80   United-States    >50K  \n"
     ]
    }
   ],
   "source": [
    "print(result)"
   ]
  },
  {
   "cell_type": "markdown",
   "metadata": {},
   "source": [
    "## Problem 2\n",
    "\n",
    "Show me the average hours per week of all men who are working in private sector"
   ]
  },
  {
   "cell_type": "code",
   "execution_count": 108,
   "metadata": {},
   "outputs": [],
   "source": [
    "sql2 = (\"SELECT avg(hoursperweek) as avg_hours_per_week FROM adultdata WHERE workclass = ' Private' and sex = ' Male' \")\n",
    "avg_hours_per_week = pd.read_sql_query(sql2, conn)"
   ]
  },
  {
   "cell_type": "code",
   "execution_count": 109,
   "metadata": {},
   "outputs": [
    {
     "name": "stdout",
     "output_type": "stream",
     "text": [
      "   avg_hours_per_week\n",
      "0           42.221226\n"
     ]
    }
   ],
   "source": [
    "print(avg_hours_per_week)"
   ]
  },
  {
   "cell_type": "markdown",
   "metadata": {},
   "source": [
    "## Problem 3\n",
    "\n",
    "Show me the frequency table for education, occupation and relationship, separately"
   ]
  },
  {
   "cell_type": "code",
   "execution_count": 110,
   "metadata": {},
   "outputs": [],
   "source": [
    "sql3 = (\"SELECT education , COUNT(education) as count FROM adultdata GROUP BY education \")\n",
    "frequency_table_education = pd.read_sql_query(sql3, conn)"
   ]
  },
  {
   "cell_type": "code",
   "execution_count": 111,
   "metadata": {},
   "outputs": [
    {
     "name": "stdout",
     "output_type": "stream",
     "text": [
      "        education  count\n",
      "0            10th    933\n",
      "1            11th   1175\n",
      "2            12th    433\n",
      "3         1st-4th    168\n",
      "4         5th-6th    333\n",
      "5         7th-8th    646\n",
      "6             9th    514\n",
      "7      Assoc-acdm   1067\n",
      "8       Assoc-voc   1382\n",
      "9       Bachelors   5354\n",
      "10      Doctorate    413\n",
      "11        HS-grad  10501\n",
      "12        Masters   1723\n",
      "13      Preschool     51\n",
      "14    Prof-school    576\n",
      "15   Some-college   7291\n"
     ]
    }
   ],
   "source": [
    "print(frequency_table_education)"
   ]
  },
  {
   "cell_type": "code",
   "execution_count": 112,
   "metadata": {},
   "outputs": [],
   "source": [
    "sql4 = (\"SELECT occupation , COUNT(occupation) as count FROM adultdata GROUP BY occupation \")\n",
    "frequency_table_occupation = pd.read_sql_query(sql4, conn)"
   ]
  },
  {
   "cell_type": "code",
   "execution_count": 113,
   "metadata": {},
   "outputs": [
    {
     "name": "stdout",
     "output_type": "stream",
     "text": [
      "            occupation  count\n",
      "0                    ?   1843\n",
      "1         Adm-clerical   3769\n",
      "2         Armed-Forces      9\n",
      "3         Craft-repair   4099\n",
      "4      Exec-managerial   4066\n",
      "5      Farming-fishing    994\n",
      "6    Handlers-cleaners   1370\n",
      "7    Machine-op-inspct   2002\n",
      "8        Other-service   3295\n",
      "9      Priv-house-serv    149\n",
      "10      Prof-specialty   4140\n",
      "11     Protective-serv    649\n",
      "12               Sales   3650\n",
      "13        Tech-support    928\n",
      "14    Transport-moving   1597\n"
     ]
    }
   ],
   "source": [
    "print(frequency_table_occupation)"
   ]
  },
  {
   "cell_type": "code",
   "execution_count": 114,
   "metadata": {},
   "outputs": [],
   "source": [
    "sql5 = (\"SELECT relationship , COUNT(relationship) as count FROM adultdata GROUP BY relationship \")\n",
    "frequency_table_relationship = pd.read_sql_query(sql5, conn)"
   ]
  },
  {
   "cell_type": "code",
   "execution_count": 115,
   "metadata": {},
   "outputs": [
    {
     "name": "stdout",
     "output_type": "stream",
     "text": [
      "      relationship  count\n",
      "0          Husband  13193\n",
      "1    Not-in-family   8304\n",
      "2   Other-relative    981\n",
      "3        Own-child   5068\n",
      "4        Unmarried   3446\n",
      "5             Wife   1568\n"
     ]
    }
   ],
   "source": [
    "print(frequency_table_relationship)"
   ]
  },
  {
   "cell_type": "markdown",
   "metadata": {},
   "source": [
    "## Problem 4\n",
    "\n",
    "Are there any people who are married, working in private sector and having a masters\n",
    "degree"
   ]
  },
  {
   "cell_type": "code",
   "execution_count": 45,
   "metadata": {},
   "outputs": [],
   "source": [
    "sql6 = (\"\"\"\n",
    "            SELECT maritalstatus, education, workclass, count(workclass) as count\n",
    "            FROM adultdata WHERE maritalstatus IN (' Married-civ-spouse', ' Married-spouse-absent' , ' Married-AF-spouse')\n",
    "            and education = ' Masters' and workclass = ' Private' GROUP BY maritalstatus \"\"\")\n",
    "working_private_married = pd.read_sql_query(sql6, conn)"
   ]
  },
  {
   "cell_type": "code",
   "execution_count": 46,
   "metadata": {},
   "outputs": [
    {
     "name": "stdout",
     "output_type": "stream",
     "text": [
      "            maritalstatus education workclass  count\n",
      "0      Married-civ-spouse   Masters   Private    531\n",
      "1   Married-spouse-absent   Masters   Private      9\n"
     ]
    }
   ],
   "source": [
    "print(working_private_married)"
   ]
  },
  {
   "cell_type": "markdown",
   "metadata": {},
   "source": [
    "## Problem 5\n",
    "\n",
    "What is the average, minimum and maximum age group for people working in\n",
    "different sectors"
   ]
  },
  {
   "cell_type": "code",
   "execution_count": 129,
   "metadata": {},
   "outputs": [],
   "source": [
    "sql7 =  (\"SELECT workclass as sector, AVG(age) as avg, MIN(age) as min, MAX(age) as max FROM adultdata GROUP BY workclass \")\n",
    "avg_min_max_age_byworkclass = pd.read_sql_query(sql7,conn)"
   ]
  },
  {
   "cell_type": "code",
   "execution_count": 130,
   "metadata": {},
   "outputs": [
    {
     "name": "stdout",
     "output_type": "stream",
     "text": [
      "              sector        avg  min  max\n",
      "0                  ?  40.960240   17   90\n",
      "1        Federal-gov  42.590625   17   90\n",
      "2          Local-gov  41.751075   17   90\n",
      "3       Never-worked  20.571429   17   30\n",
      "4            Private  36.797585   17   90\n",
      "5       Self-emp-inc  46.017025   17   84\n",
      "6   Self-emp-not-inc  44.969697   17   90\n",
      "7          State-gov  39.436392   17   81\n",
      "8        Without-pay  47.785714   19   72\n"
     ]
    }
   ],
   "source": [
    "print(avg_min_max_age_byworkclass)"
   ]
  },
  {
   "cell_type": "markdown",
   "metadata": {},
   "source": [
    "## Problem 6\n",
    "\n",
    "Calculate age distribution by country\n"
   ]
  },
  {
   "cell_type": "code",
   "execution_count": 75,
   "metadata": {},
   "outputs": [],
   "source": [
    "sql8 = (\"\"\"\n",
    "      SELECT nativecountry\n",
    ",COUNT(CASE WHEN age BETWEEN 10 AND 19 THEN nativecountry ELSE NULL END) AS [10-19]\n",
    ",COUNT(CASE WHEN age BETWEEN 20 AND 29 THEN nativecountry ELSE NULL END) AS [20-29]\n",
    ",COUNT(CASE WHEN age BETWEEN 30 AND 39 THEN nativecountry ELSE NULL END) AS [30-39]\n",
    ",COUNT(CASE WHEN age BETWEEN 40 AND 49 THEN nativecountry ELSE NULL END) AS [40-49]\n",
    ",COUNT(CASE WHEN age BETWEEN 50 AND 59 THEN nativecountry ELSE NULL END) AS [50-59]\n",
    ",COUNT(CASE WHEN age BETWEEN 60 AND 69 THEN nativecountry ELSE NULL END) AS [60-69]\n",
    ",COUNT(CASE WHEN age BETWEEN 70 AND 79 THEN nativecountry ELSE NULL END) AS [70-79]\n",
    ",COUNT(CASE WHEN age BETWEEN 80 AND 89 THEN nativecountry ELSE NULL END) AS [80-89]\n",
    ",COUNT(CASE WHEN age BETWEEN 90 AND 100 THEN nativecountry ELSE NULL END) AS [90-100]\n",
    "from adultdata\n",
    "group by nativecountry\"\"\")\n",
    "\n",
    "age_range_by_country =  pd.read_sql_query(sql8, conn)"
   ]
  },
  {
   "cell_type": "code",
   "execution_count": 76,
   "metadata": {},
   "outputs": [
    {
     "name": "stdout",
     "output_type": "stream",
     "text": [
      "                  nativecountry  10-19  20-29  30-39  40-49  50-59  60-69  \\\n",
      "0                             ?     15    128    193    135     70     34   \n",
      "1                      Cambodia      1      4      6      5      2      1   \n",
      "2                        Canada      4     25     27     24     23     11   \n",
      "3                         China      0      9     24     21     12      7   \n",
      "4                      Columbia      1     17     15     12      8      5   \n",
      "5                          Cuba      0     11     24     22     24      9   \n",
      "6            Dominican-Republic      1     27     10     17     12      2   \n",
      "7                       Ecuador      0     12      7      6      1      1   \n",
      "8                   El-Salvador      6     43     24     18     12      2   \n",
      "9                       England      3     16     25     24     13      6   \n",
      "10                       France      0      7     11      5      4      2   \n",
      "11                      Germany      1     34     43     29     18     10   \n",
      "12                       Greece      0      5      2      8     12      2   \n",
      "13                    Guatemala      3     32     13     10      4      2   \n",
      "14                        Haiti      2     11     10     10     10      1   \n",
      "15           Holand-Netherlands      0      0      1      0      0      0   \n",
      "16                     Honduras      2      3      4      3      1      0   \n",
      "17                         Hong      1      7      8      3      0      1   \n",
      "18                      Hungary      0      3      1      2      3      3   \n",
      "19                        India      2     24     30     26     16      2   \n",
      "20                         Iran      0      5     20     11      5      2   \n",
      "21                      Ireland      0      5     11      4      3      1   \n",
      "22                        Italy      1      8     14     18     21     10   \n",
      "23                      Jamaica      2     30     22     14     11      2   \n",
      "24                        Japan      2     11     22     20      6      1   \n",
      "25                         Laos      2      6      4      3      3      0   \n",
      "26                       Mexico     26    261    188    103     52     11   \n",
      "27                    Nicaragua      2     12     11      6      2      1   \n",
      "28   Outlying-US(Guam-USVI-etc)      0      6      1      4      2      1   \n",
      "29                         Peru      3      9      6     11      0      2   \n",
      "30                  Philippines      5     49     61     42     25     12   \n",
      "31                       Poland      1     13     14     14     10      3   \n",
      "32                     Portugal      1      9     11      8      5      1   \n",
      "33                  Puerto-Rico      4     21     28     35     18      6   \n",
      "34                     Scotland      1      3      1      4      2      1   \n",
      "35                        South      3     22     20     16     11      6   \n",
      "36                       Taiwan      0     19     18     10      3      1   \n",
      "37                     Thailand      2      4      5      6      1      0   \n",
      "38              Trinadad&Tobago      1      1      6      7      3      1   \n",
      "39                United-States   1557   7111   7650   6442   3983   1850   \n",
      "40                      Vietnam      2     27     17     12      5      1   \n",
      "41                   Yugoslavia      0      4      4      5      2      1   \n",
      "\n",
      "    70-79  80-89  90-100  \n",
      "0       5      2       1  \n",
      "1       0      0       0  \n",
      "2       6      1       0  \n",
      "3       2      0       0  \n",
      "4       1      0       0  \n",
      "5       4      1       0  \n",
      "6       1      0       0  \n",
      "7       0      0       1  \n",
      "8       1      0       0  \n",
      "9       2      0       1  \n",
      "10      0      0       0  \n",
      "11      2      0       0  \n",
      "12      0      0       0  \n",
      "13      0      0       0  \n",
      "14      0      0       0  \n",
      "15      0      0       0  \n",
      "16      0      0       0  \n",
      "17      0      0       0  \n",
      "18      0      1       0  \n",
      "19      0      0       0  \n",
      "20      0      0       0  \n",
      "21      0      0       0  \n",
      "22      1      0       0  \n",
      "23      0      0       0  \n",
      "24      0      0       0  \n",
      "25      0      0       0  \n",
      "26      1      1       0  \n",
      "27      0      0       0  \n",
      "28      0      0       0  \n",
      "29      0      0       0  \n",
      "30      3      0       1  \n",
      "31      3      2       0  \n",
      "32      2      0       0  \n",
      "33      1      0       1  \n",
      "34      0      0       0  \n",
      "35      1      0       1  \n",
      "36      0      0       0  \n",
      "37      0      0       0  \n",
      "38      0      0       0  \n",
      "39    469     70      37  \n",
      "40      3      0       0  \n",
      "41      0      0       0  \n"
     ]
    }
   ],
   "source": [
    "print(age_range_by_country)"
   ]
  },
  {
   "cell_type": "markdown",
   "metadata": {},
   "source": [
    "## Problem 7\n",
    "\n",
    "Compute a new column as 'Net-Capital-Gain' from the two columns 'capital-gain' and\n",
    "'capital-loss'"
   ]
  },
  {
   "cell_type": "code",
   "execution_count": 51,
   "metadata": {},
   "outputs": [],
   "source": [
    "sql9 = (\"  SELECT capitalgain - capitalloss AS 'Net-Capital_Gain' from adultdata \")\n",
    "net_capital_gain = pd.read_sql_query(sql9, conn)"
   ]
  },
  {
   "cell_type": "code",
   "execution_count": 55,
   "metadata": {},
   "outputs": [
    {
     "name": "stdout",
     "output_type": "stream",
     "text": [
      "    Net-Capital_Gain\n",
      "0                  0\n",
      "1                  0\n",
      "2                  0\n",
      "3                  0\n",
      "4                  0\n",
      "5                  0\n",
      "6                  0\n",
      "7              14084\n",
      "8               5178\n",
      "9                  0\n",
      "10                 0\n",
      "11                 0\n",
      "12                 0\n",
      "13                 0\n",
      "14                 0\n",
      "15                 0\n",
      "16                 0\n",
      "17                 0\n",
      "18                 0\n",
      "19                 0\n",
      "20                 0\n",
      "21                 0\n",
      "22             -2042\n",
      "23                 0\n",
      "24                 0\n",
      "25                 0\n",
      "26                 0\n",
      "27                 0\n",
      "28                 0\n",
      "29                 0\n"
     ]
    }
   ],
   "source": [
    "print((net_capital_gain).head(30))"
   ]
  },
  {
   "cell_type": "code",
   "execution_count": null,
   "metadata": {},
   "outputs": [],
   "source": []
  }
 ],
 "metadata": {
  "kernelspec": {
   "display_name": "Python 3",
   "language": "python",
   "name": "python3"
  },
  "language_info": {
   "codemirror_mode": {
    "name": "ipython",
    "version": 3
   },
   "file_extension": ".py",
   "mimetype": "text/x-python",
   "name": "python",
   "nbconvert_exporter": "python",
   "pygments_lexer": "ipython3",
   "version": "3.6.4"
  }
 },
 "nbformat": 4,
 "nbformat_minor": 2
}
