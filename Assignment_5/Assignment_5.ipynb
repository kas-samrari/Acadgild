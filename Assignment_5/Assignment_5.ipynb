{
 "cells": [
  {
   "cell_type": "markdown",
   "metadata": {},
   "source": [
    "## Problem 1\n",
    "Write a function to compute 5/0 and use try/except to catch the exceptions."
   ]
  },
  {
   "cell_type": "code",
   "execution_count": 19,
   "metadata": {},
   "outputs": [
    {
     "name": "stdout",
     "output_type": "stream",
     "text": [
      "Looks like you are trying to divide by Zero\n"
     ]
    }
   ],
   "source": [
    "def divbyzero():\n",
    "    return 5/0\n",
    "\n",
    "try:\n",
    "    divbyzero()\n",
    "except ZeroDivisionError:\n",
    "    print('Looks like you are trying to divide by Zero')\n",
    "        "
   ]
  },
  {
   "cell_type": "markdown",
   "metadata": {},
   "source": [
    "## Problem 2\n",
    "\n",
    "Implement a Python program to generate all sentences where subject is in [\"Americans\",\"Indians\"] and verb is in [\"Play\", \"watch\"] and the object is in [\"Baseball\",\"cricket\"].\n",
    "\n",
    "Hint: Subject,Verb and Object should be declared in the program as shown below.\n",
    "\n",
    "subjects=[\"Americans \",\"Indians\"]   \n",
    "verbs=[\"play\",\"watch\"]   \n",
    "objects=[\"Baseball\",\"Cricket\"]  \n",
    "\n",
    "Output should come as below:\n",
    "\n",
    "Americans play Baseball.  \n",
    "Americans play Cricket.  \n",
    "Americans watch Baseball.  \n",
    "Americans watch Cricket.  \n",
    "Indians play Baseball.  \n",
    "Indians play Cricket.  \n",
    "Indians watch Baseball.  \n",
    "Indians watch Cricket.  "
   ]
  },
  {
   "cell_type": "code",
   "execution_count": 21,
   "metadata": {},
   "outputs": [
    {
     "name": "stdout",
     "output_type": "stream",
     "text": [
      "Americans play  Baseball.\n",
      "Americans play  Cricket.\n",
      "Americans watch  Baseball.\n",
      "Americans watch  Cricket.\n",
      "Indians play  Baseball.\n",
      "Indians play  Cricket.\n",
      "Indians watch  Baseball.\n",
      "Indians watch  Cricket.\n"
     ]
    }
   ],
   "source": [
    "subjects = [\"Americans\", \"Indians\"]\n",
    "verbs = [\"play\", \"watch\"]\n",
    "objects = [\"Baseball\", \"Cricket\"]\n",
    "\n",
    "for s in subjects:\n",
    "    for v in verbs:\n",
    "        for o in objects:\n",
    "            print(s + ' ' + v + ' ' + ' ' + o + '.')\n"
   ]
  },
  {
   "cell_type": "code",
   "execution_count": null,
   "metadata": {},
   "outputs": [],
   "source": []
  }
 ],
 "metadata": {
  "kernelspec": {
   "display_name": "Python 3",
   "language": "python",
   "name": "python3"
  },
  "language_info": {
   "codemirror_mode": {
    "name": "ipython",
    "version": 3
   },
   "file_extension": ".py",
   "mimetype": "text/x-python",
   "name": "python",
   "nbconvert_exporter": "python",
   "pygments_lexer": "ipython3",
   "version": "3.6.4"
  }
 },
 "nbformat": 4,
 "nbformat_minor": 2
}
